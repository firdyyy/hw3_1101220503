{
 "cells": [
  {
   "cell_type": "markdown",
   "id": "5ba13add-2ace-4077-925c-f08ffdd020c4",
   "metadata": {},
   "source": [
    "Muhammad Zulfiqri Firdiansyah 1101220503"
   ]
  },
  {
   "cell_type": "code",
   "execution_count": 4,
   "id": "9879426d-d3ad-4d8e-95a7-2a87faf8defe",
   "metadata": {},
   "outputs": [],
   "source": [
    "import pandas as pd"
   ]
  },
  {
   "cell_type": "markdown",
   "id": "31b4ce1a-7510-499a-89fa-0cfaaaaa5319",
   "metadata": {},
   "source": [
    "# Membaca Data dari File Teks\n",
    "- Membaca file `LB_TA.txt` dengan delimiter tab (`\\t`) untuk memisahkan kolom."
   ]
  },
  {
   "cell_type": "code",
   "execution_count": 16,
   "id": "e0256c3c-705c-4b63-8f96-cf6d4020351d",
   "metadata": {},
   "outputs": [
    {
     "data": {
      "text/html": [
       "<div>\n",
       "<style scoped>\n",
       "    .dataframe tbody tr th:only-of-type {\n",
       "        vertical-align: middle;\n",
       "    }\n",
       "\n",
       "    .dataframe tbody tr th {\n",
       "        vertical-align: top;\n",
       "    }\n",
       "\n",
       "    .dataframe thead th {\n",
       "        text-align: right;\n",
       "    }\n",
       "</style>\n",
       "<table border=\"1\" class=\"dataframe\">\n",
       "  <thead>\n",
       "    <tr style=\"text-align: right;\">\n",
       "      <th></th>\n",
       "      <th>gvkey</th>\n",
       "      <th>datadate</th>\n",
       "      <th>fyear</th>\n",
       "      <th>tic</th>\n",
       "      <th>at</th>\n",
       "    </tr>\n",
       "  </thead>\n",
       "  <tbody>\n",
       "    <tr>\n",
       "      <th>0</th>\n",
       "      <td>1004</td>\n",
       "      <td>20090531</td>\n",
       "      <td>2008</td>\n",
       "      <td>AIR</td>\n",
       "      <td>1377.511</td>\n",
       "    </tr>\n",
       "    <tr>\n",
       "      <th>1</th>\n",
       "      <td>1004</td>\n",
       "      <td>20100531</td>\n",
       "      <td>2009</td>\n",
       "      <td>AIR</td>\n",
       "      <td>1501.042</td>\n",
       "    </tr>\n",
       "    <tr>\n",
       "      <th>2</th>\n",
       "      <td>1004</td>\n",
       "      <td>20110531</td>\n",
       "      <td>2010</td>\n",
       "      <td>AIR</td>\n",
       "      <td>1703.727</td>\n",
       "    </tr>\n",
       "    <tr>\n",
       "      <th>3</th>\n",
       "      <td>1004</td>\n",
       "      <td>20120531</td>\n",
       "      <td>2011</td>\n",
       "      <td>AIR</td>\n",
       "      <td>2195.653</td>\n",
       "    </tr>\n",
       "    <tr>\n",
       "      <th>4</th>\n",
       "      <td>1004</td>\n",
       "      <td>20130531</td>\n",
       "      <td>2012</td>\n",
       "      <td>AIR</td>\n",
       "      <td>2136.900</td>\n",
       "    </tr>\n",
       "    <tr>\n",
       "      <th>...</th>\n",
       "      <td>...</td>\n",
       "      <td>...</td>\n",
       "      <td>...</td>\n",
       "      <td>...</td>\n",
       "      <td>...</td>\n",
       "    </tr>\n",
       "    <tr>\n",
       "      <th>13371</th>\n",
       "      <td>15743</td>\n",
       "      <td>20111231</td>\n",
       "      <td>2011</td>\n",
       "      <td>DBSDY</td>\n",
       "      <td>263242.972</td>\n",
       "    </tr>\n",
       "    <tr>\n",
       "      <th>13372</th>\n",
       "      <td>15743</td>\n",
       "      <td>20121231</td>\n",
       "      <td>2012</td>\n",
       "      <td>DBSDY</td>\n",
       "      <td>289039.627</td>\n",
       "    </tr>\n",
       "    <tr>\n",
       "      <th>13373</th>\n",
       "      <td>15743</td>\n",
       "      <td>20121231</td>\n",
       "      <td>2012</td>\n",
       "      <td>DBSDY</td>\n",
       "      <td>289039.627</td>\n",
       "    </tr>\n",
       "    <tr>\n",
       "      <th>13374</th>\n",
       "      <td>15743</td>\n",
       "      <td>20131231</td>\n",
       "      <td>2013</td>\n",
       "      <td>DBSDY</td>\n",
       "      <td>318497.861</td>\n",
       "    </tr>\n",
       "    <tr>\n",
       "      <th>13375</th>\n",
       "      <td>15743</td>\n",
       "      <td>20131231</td>\n",
       "      <td>2013</td>\n",
       "      <td>DBSDY</td>\n",
       "      <td>318497.861</td>\n",
       "    </tr>\n",
       "  </tbody>\n",
       "</table>\n",
       "<p>13376 rows × 5 columns</p>\n",
       "</div>"
      ],
      "text/plain": [
       "       gvkey  datadate fyear    tic          at\n",
       "0       1004  20090531  2008    AIR    1377.511\n",
       "1       1004  20100531  2009    AIR    1501.042\n",
       "2       1004  20110531  2010    AIR    1703.727\n",
       "3       1004  20120531  2011    AIR    2195.653\n",
       "4       1004  20130531  2012    AIR    2136.900\n",
       "...      ...       ...   ...    ...         ...\n",
       "13371  15743  20111231  2011  DBSDY  263242.972\n",
       "13372  15743  20121231  2012  DBSDY  289039.627\n",
       "13373  15743  20121231  2012  DBSDY  289039.627\n",
       "13374  15743  20131231  2013  DBSDY  318497.861\n",
       "13375  15743  20131231  2013  DBSDY  318497.861\n",
       "\n",
       "[13376 rows x 5 columns]"
      ]
     },
     "execution_count": 16,
     "metadata": {},
     "output_type": "execute_result"
    }
   ],
   "source": [
    "f = pd.read_csv(\"LB_TA.txt\", delimiter = r\"\\s+\")\n",
    "f"
   ]
  },
  {
   "cell_type": "markdown",
   "id": "cdb215f9-ca9e-4ccb-9735-4e568933eb75",
   "metadata": {},
   "source": [
    "# Menyimpan Data ke CSV\n",
    "- Menyimpan dataframe `f` ke dalam file CSV yang baru dengan nama `LB_TA.txt`, tanpa menyertakan indeks."
   ]
  },
  {
   "cell_type": "code",
   "execution_count": 20,
   "id": "ed87e8c3-a614-4b0f-8599-804aec5737b2",
   "metadata": {},
   "outputs": [],
   "source": [
    "csv_file_path = 'LB_TA.txt' \n",
    "f.to_csv(csv_file_path, index=False)"
   ]
  },
  {
   "cell_type": "markdown",
   "id": "c5a20ee7-2050-4161-903e-d8fdd0aaec63",
   "metadata": {},
   "source": [
    "# Menghapus Baris dengan Nilai 'at' yang Hilang\n",
    "- Menghapus baris yang memiliki nilai kosong (NaN) di kolom `at`, karena nilai tersebut diperlukan untuk perhitungan rata-rata."
   ]
  },
  {
   "cell_type": "code",
   "execution_count": 26,
   "id": "5853e749-a402-4103-bd97-13521060cfca",
   "metadata": {},
   "outputs": [],
   "source": [
    "f_clean = f.dropna(subset=['at'])"
   ]
  },
  {
   "cell_type": "markdown",
   "id": "7f155047-02b1-441d-8e88-f8d3281c89ca",
   "metadata": {},
   "source": [
    "# Menghitung Rata-rata 'at' untuk Setiap 'tic'\n",
    "- Mengelompokkan data berdasarkan `tic` dan menghitung rata-rata kolom `at` untuk setiap grup `tic`."
   ]
  },
  {
   "cell_type": "code",
   "execution_count": 28,
   "id": "fccfff71-bc2b-44fc-bcf2-29f8bd926d87",
   "metadata": {},
   "outputs": [],
   "source": [
    "f_avg_at = f_clean.groupby('tic', as_index=False)['at'].mean()"
   ]
  },
  {
   "cell_type": "markdown",
   "id": "c3f549e4-2617-420a-87a1-141c896b6f58",
   "metadata": {},
   "source": [
    "# Menyaring 'tic' dengan Satu Catatan\n",
    "- Menghapus grup `tic` yang hanya memiliki satu catatan, karena kita hanya ingin menghitung rata-rata untuk `tic` dengan lebih dari satu entri."
   ]
  },
  {
   "cell_type": "code",
   "execution_count": 30,
   "id": "a8950dde-93d0-45fb-88e2-511cc785af24",
   "metadata": {},
   "outputs": [],
   "source": [
    "valid_tics = f_clean.groupby('tic').filter(lambda x: len(x) > 1)"
   ]
  },
  {
   "cell_type": "markdown",
   "id": "650653ba-c1cc-4bf5-b327-7f4f3bd286c3",
   "metadata": {},
   "source": [
    "# Menghitung Rata-rata 'at' untuk 'tic' yang Valid\n",
    "- Menghitung rata-rata kolom `at` setelah hanya memilih `tic` yang valid (yang memiliki lebih dari satu catatan)."
   ]
  },
  {
   "cell_type": "code",
   "execution_count": 32,
   "id": "656f1be3-5c45-4090-9a78-2fc04a7b2234",
   "metadata": {},
   "outputs": [],
   "source": [
    "f_valid_avg_at = valid_tics.groupby('tic', as_index=False)['at'].mean()"
   ]
  },
  {
   "cell_type": "markdown",
   "id": "b3ba7302-3033-4c18-807c-2ce44755e8f4",
   "metadata": {},
   "source": [
    "# Mengganti Nama Kolom 'at' Menjadi 'avg_at'\n",
    "- Mengubah nama kolom `at` menjadi `avg_at` untuk menandakan bahwa nilai tersebut adalah rata-rata."
   ]
  },
  {
   "cell_type": "code",
   "execution_count": 34,
   "id": "c2ad3931-10b1-4b9f-9f0f-ebc5ee7bac90",
   "metadata": {},
   "outputs": [],
   "source": [
    "f_valid_avg_at = f_valid_avg_at.rename(columns={'at': 'avg_at'})"
   ]
  },
  {
   "cell_type": "markdown",
   "id": "47873106-fc16-47fa-ac24-4b0171c51884",
   "metadata": {},
   "source": [
    "# Menyimpan Hasil ke dalam File CSV\n",
    "- Menyimpan dataframe yang sudah diproses (`f_valid_avg_at`) ke dalam file CSV yang baru dengan nama `LB_TA.txt`."
   ]
  },
  {
   "cell_type": "code",
   "execution_count": 36,
   "id": "7ba07122-c012-4252-83e8-5ff2bcd6b2f2",
   "metadata": {},
   "outputs": [],
   "source": [
    "output_file_path = 'LB_TA.txt'\n",
    "f_valid_avg_at.to_csv(output_file_path, index=False)"
   ]
  },
  {
   "cell_type": "markdown",
   "id": "0b71dab5-de4b-41fd-9c36-ceb6c089796f",
   "metadata": {},
   "source": [
    "# Menampilkan Pesan Berhasil\n",
    "- Menampilkan pesan yang memberi tahu bahwa file telah berhasil disimpan di lokasi yang ditentukan."
   ]
  },
  {
   "cell_type": "code",
   "execution_count": 38,
   "id": "ea028136-29ea-47f9-9be4-72c257276371",
   "metadata": {},
   "outputs": [
    {
     "name": "stdout",
     "output_type": "stream",
     "text": [
      "File berhasil disimpan di: LB_TA.txt\n"
     ]
    }
   ],
   "source": [
    "print(f\"File berhasil disimpan di: {output_file_path}\")"
   ]
  }
 ],
 "metadata": {
  "kernelspec": {
   "display_name": "Python [conda env:base] *",
   "language": "python",
   "name": "conda-base-py"
  },
  "language_info": {
   "codemirror_mode": {
    "name": "ipython",
    "version": 3
   },
   "file_extension": ".py",
   "mimetype": "text/x-python",
   "name": "python",
   "nbconvert_exporter": "python",
   "pygments_lexer": "ipython3",
   "version": "3.12.7"
  }
 },
 "nbformat": 4,
 "nbformat_minor": 5
}
